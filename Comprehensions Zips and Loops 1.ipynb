{
 "cells": [
  {
   "cell_type": "code",
   "execution_count": 64,
   "metadata": {},
   "outputs": [],
   "source": [
    "import pandas as pd\n",
    "import numpy as np\n",
    "import random\n",
    "import time\n",
    "import datetime as dt\n"
   ]
  },
  {
   "cell_type": "markdown",
   "metadata": {},
   "source": [
    "# Lists and Dictionaries via Zipping and Comprehensions"
   ]
  },
  {
   "cell_type": "code",
   "execution_count": 65,
   "metadata": {},
   "outputs": [],
   "source": [
    "# zipping two or more separate lists to generate a combined list of tuples\n",
    "\n",
    "# example: calculate multiple metrics, e.g. prediction accuracy\n",
    "# collect all these calculation results in a list\n",
    "rmse = 1\n",
    "mape = 0.04\n",
    "rsq = 0.9\n",
    "\n",
    "# collect multiple calculations results in a list\n",
    "acc_values = [rmse, mape, rsq]\n",
    "\n",
    "# define a list of names for these results\n",
    "acc_names = [\"RMSE\", \"MAPE\", \"R-sq\"]"
   ]
  },
  {
   "cell_type": "code",
   "execution_count": 66,
   "metadata": {},
   "outputs": [
    {
     "data": {
      "text/plain": [
       "[('RMSE', 1), ('MAPE', 0.04), ('R-sq', 0.9)]"
      ]
     },
     "execution_count": 66,
     "metadata": {},
     "output_type": "execute_result"
    }
   ],
   "source": [
    "# combine the names of the metrics and their values via zipping to a list of tuples\n",
    "acc_list = list(zip(acc_names, acc_values))\n",
    "acc_list"
   ]
  },
  {
   "cell_type": "code",
   "execution_count": 67,
   "metadata": {},
   "outputs": [
    {
     "name": "stdout",
     "output_type": "stream",
     "text": [
      "('RMSE', 'MAPE', 'R-sq')\n",
      "(1, 0.04, 0.9)\n"
     ]
    }
   ],
   "source": [
    "# short digression #1 on zip: unzipping a list of tuples: use the asterisk *\n",
    "\n",
    "names, values = zip(*acc_list)\n",
    "print(names)\n",
    "print(values)"
   ]
  },
  {
   "cell_type": "code",
   "execution_count": 68,
   "metadata": {},
   "outputs": [
    {
     "data": {
      "text/plain": [
       "[('RMSE', 1), ('MAPE', 0.04)]"
      ]
     },
     "execution_count": 68,
     "metadata": {},
     "output_type": "execute_result"
    }
   ],
   "source": [
    "# short digression 2 on zip: zipping lists of unequal length\n",
    "# zip takes the shorter list and skips the corresponding item of the longer partner list\n",
    "\n",
    "acc_names2 = [\"RMSE\", \"MAPE\"]\n",
    "acc_values2 = [rmse, mape, rsq]\n",
    "acc_list2 = list(zip(acc_names2, acc_values2))\n",
    "acc_list2"
   ]
  },
  {
   "cell_type": "code",
   "execution_count": 69,
   "metadata": {},
   "outputs": [
    {
     "data": {
      "text/plain": [
       "[('RMSE', 1), ('MAPE', 0.04), ('R-sq', 0.9), ('MSE', None)]"
      ]
     },
     "execution_count": 69,
     "metadata": {},
     "output_type": "execute_result"
    }
   ],
   "source": [
    "# short digression 3 on zip: zipping lists of unequal length by using zip_longest\n",
    "# zip_longest also shows list items that don't have a partner item in the other list\n",
    "\n",
    "from itertools import zip_longest\n",
    "acc_names3 = [\"RMSE\", \"MAPE\", \"R-sq\", \"MSE\"]\n",
    "acc_values3 = [rmse, mape, rsq]\n",
    "\n",
    "acc_list3 = list(zip_longest(acc_names3, acc_values3))\n",
    "acc_list3"
   ]
  },
  {
   "cell_type": "code",
   "execution_count": 70,
   "metadata": {},
   "outputs": [
    {
     "data": {
      "text/plain": [
       "{'RMSE': 1, 'MAPE': 0.04, 'R-sq': 0.9}"
      ]
     },
     "execution_count": 70,
     "metadata": {},
     "output_type": "execute_result"
    }
   ],
   "source": [
    "# convert the list of zipped tuples to a dictionary\n",
    "\n",
    "acc_dict = dict(acc_list)\n",
    "acc_dict\n",
    "# not ready for pretty-printing"
   ]
  },
  {
   "cell_type": "code",
   "execution_count": 71,
   "metadata": {},
   "outputs": [
    {
     "data": {
      "text/plain": [
       "{'RMSE': 1, 'MAPE': 0.04, 'R-sq': 0.9}"
      ]
     },
     "execution_count": 71,
     "metadata": {},
     "output_type": "execute_result"
    }
   ],
   "source": [
    "# faster: zip the names and values lists directly into a dictionary,\n",
    "# without creating a list of tuples in between\n",
    "acc_dict = {k: v for k, v in zip(acc_names, acc_values)}\n",
    "acc_dict"
   ]
  },
  {
   "cell_type": "code",
   "execution_count": 72,
   "metadata": {},
   "outputs": [
    {
     "name": "stdout",
     "output_type": "stream",
     "text": [
      "RMSE : 1\n",
      "MAPE : 0.04\n",
      "R-sq : 0.9\n"
     ]
    },
    {
     "data": {
      "text/plain": [
       "[None, None, None]"
      ]
     },
     "execution_count": 72,
     "metadata": {},
     "output_type": "execute_result"
    }
   ],
   "source": [
    "# print the values and their names line by line: list comprehension\n",
    "\n",
    "[print(k, \":\", v) for k,v in acc_dict.items()]"
   ]
  },
  {
   "cell_type": "code",
   "execution_count": 73,
   "metadata": {},
   "outputs": [
    {
     "name": "stdout",
     "output_type": "stream",
     "text": [
      "RMSE : 1\n",
      "MAPE : 0.04\n",
      "R-sq : 0.9\n",
      "\n",
      "\n"
     ]
    }
   ],
   "source": [
    "# list comprehension for printing, without list of Nones\n",
    "\n",
    "[print(k, \":\", v) for k,v in acc_dict.items()]\n",
    "print(\"\\n\")"
   ]
  },
  {
   "cell_type": "code",
   "execution_count": 74,
   "metadata": {},
   "outputs": [
    {
     "name": "stdout",
     "output_type": "stream",
     "text": [
      "RMSE : 1\n",
      "MAPE : 0.04\n",
      "R-sq : 0.9\n"
     ]
    }
   ],
   "source": [
    "# list comprehension for printing, without list of Nones\n",
    "\n",
    "[print(k, \":\", v) for k,v in acc_dict.items()]\n",
    "pass"
   ]
  },
  {
   "cell_type": "code",
   "execution_count": 75,
   "metadata": {},
   "outputs": [
    {
     "name": "stdout",
     "output_type": "stream",
     "text": [
      "RMSE : 1\n",
      "MAPE : 0.04\n",
      "R-sq : 0.9\n"
     ]
    }
   ],
   "source": [
    "# dictionary comprehension for printing, without list of Nones\n",
    "\n",
    "y = [print(k, \":\", v) for k,v in acc_dict.items()]"
   ]
  },
  {
   "cell_type": "code",
   "execution_count": 76,
   "metadata": {},
   "outputs": [
    {
     "name": "stdout",
     "output_type": "stream",
     "text": [
      "RMSE : 1\n",
      "MAPE : 0.04\n",
      "R-sq : 0.9\n"
     ]
    }
   ],
   "source": [
    "# dictionary comprehension for printing, without list of Nones\n",
    "\n",
    "_ = [print(k, \":\", v) for k,v in acc_dict.items()]"
   ]
  },
  {
   "cell_type": "code",
   "execution_count": 77,
   "metadata": {},
   "outputs": [
    {
     "name": "stdout",
     "output_type": "stream",
     "text": [
      "RMSE : 1.0\n",
      "MAPE : 0.0\n",
      "R-sq : 0.9\n"
     ]
    }
   ],
   "source": [
    "# list comprehension for pretty-printing, with number format\n",
    "\n",
    "c = [print(k, \":\", f'{v:.1f}') for k,v in acc_dict.items()]"
   ]
  },
  {
   "cell_type": "code",
   "execution_count": 78,
   "metadata": {},
   "outputs": [
    {
     "name": "stdout",
     "output_type": "stream",
     "text": [
      "RMSE : 1.0\n",
      "MAPE : 0.0\n",
      "R-sq : 0.9\n"
     ]
    }
   ],
   "source": [
    "# summary:\n",
    "# if you have multiple values with individual names, e.g. a list of metrics\n",
    "# you want to summarize\n",
    "# collect all these calculation results in a list\n",
    "rmse = 1\n",
    "mape = 0.04\n",
    "rsq = 0.9\n",
    "\n",
    "# collect multiple calculations results in a list\n",
    "acc_values = [rmse, mape, rsq]\n",
    "\n",
    "# define a list of names for the metrics\n",
    "acc_names = [\"RMSE\", \"MAPE\", \"R-sq\"]\n",
    "\n",
    "# combine the lists of names and values via zipping to a dictionary\n",
    "acc_list = list(zip(acc_names, acc_values))\n",
    "\n",
    "# pretty-print the dictionary of metrics\n",
    "_ = [print(k, \":\", f'{v:.1f}') for k,v in acc_dict.items()]"
   ]
  },
  {
   "cell_type": "markdown",
   "metadata": {},
   "source": [
    "# Performance of Comprehensions vs. Loops"
   ]
  },
  {
   "cell_type": "code",
   "execution_count": 79,
   "metadata": {},
   "outputs": [
    {
     "name": "stdout",
     "output_type": "stream",
     "text": [
      "[95, 59, 45, 71, 29]\n",
      "[9025, 3481, 2025, 5041, 841]\n"
     ]
    },
    {
     "data": {
      "text/plain": [
       "[9025, 3481, 2025, 5041, 841]"
      ]
     },
     "execution_count": 79,
     "metadata": {},
     "output_type": "execute_result"
    }
   ],
   "source": [
    "# small list of random numbers: the jurassic way to square them in a for loop\n",
    "\n",
    "rands = [random.randrange(1, 100, 1) for i in range(5)]\n",
    "print(rands)\n",
    "\n",
    "# list of random numbers: the jurassic way to square them in a for loop\n",
    "rands2 = []\n",
    "for n in rands:\n",
    "    n = n**2\n",
    "    rands2.append(n)\n",
    "print(rands2)\n",
    "\n",
    "\n",
    "# list comprehension to square them\n",
    "c = [n**2 for n in rands]\n",
    "c"
   ]
  },
  {
   "cell_type": "code",
   "execution_count": 80,
   "metadata": {},
   "outputs": [
    {
     "name": "stdout",
     "output_type": "stream",
     "text": [
      "0.056 sec\n",
      "0.045 sec: comprehension vs loop: -20.9%\n"
     ]
    }
   ],
   "source": [
    "# list comprehension to square each number in a LARGE list of 100,000 numbers\n",
    "\n",
    "rands = [random.randrange(1, 100, 1) for i in range(100000)]\n",
    "\n",
    "t = time.perf_counter()\n",
    "# >>>>>>>>>>>>>>>>>>>>>>>>\n",
    "rands2 = []\n",
    "for n in rands:\n",
    "    n = n**2\n",
    "    rands2.append(n)\n",
    "# >>>>>>>>>>>>>>>>>>>>>>>>\n",
    "tLoop = time.perf_counter() - t\n",
    "print(f'{tLoop:.3f} sec')\n",
    "\n",
    "\n",
    "t = time.perf_counter()\n",
    "# >>>>>>>>>>>>>>>>>>>>>>>>>>>>>>>>\n",
    "_ = [n**2 for n in rands]\n",
    "# >>>>>>>>>>>>>>>>>>>>>>>>>>>>>>>>\n",
    "tComp = time.perf_counter() - t\n",
    "print(f'{tComp:.3f} sec: comprehension vs loop: {100*(tComp/tLoop-1):.1f}%')"
   ]
  },
  {
   "cell_type": "code",
   "execution_count": 81,
   "metadata": {},
   "outputs": [
    {
     "name": "stdout",
     "output_type": "stream",
     "text": [
      "0.013 sec\n",
      "0.007 sec: comprehension vs loop: -45.9%\n",
      "found: 9044\n",
      "found: 9044\n"
     ]
    }
   ],
   "source": [
    "# expression with a condition (filter via if): \n",
    "# square only those of the 100,000 numbers in the list which exceed 90\n",
    "\n",
    "rands = [random.randrange(1, 100, 1) for i in range(100000)]\n",
    "\n",
    "t = time.perf_counter()\n",
    "# >>>>>>>>>>>>>>>>>>>>>>>>\n",
    "rands2 = []\n",
    "for n in rands:\n",
    "    if n > 90:\n",
    "        n = n**2\n",
    "        rands2.append(n)\n",
    "# >>>>>>>>>>>>>>>>>>>>>>>>\n",
    "tLoop = time.perf_counter() - t\n",
    "print(f'{tLoop:.3f} sec')\n",
    "\n",
    "\n",
    "t = time.perf_counter()\n",
    "# >>>>>>>>>>>>>>>>>>>>>>>>>>>>>>>>\n",
    "c = [n**2 for n in rands if n > 90]\n",
    "# >>>>>>>>>>>>>>>>>>>>>>>>>>>>>>>>\n",
    "tComp = time.perf_counter() - t\n",
    "print(f'{tComp:.3f} sec: comprehension vs loop: {100*(tComp/tLoop-1):.1f}%')\n",
    "\n",
    "print(\"found: \" + str(len(rands2)))\n",
    "print(\"found: \" + str(len(c)))"
   ]
  },
  {
   "cell_type": "code",
   "execution_count": 82,
   "metadata": {},
   "outputs": [
    {
     "name": "stdout",
     "output_type": "stream",
     "text": [
      "0.035 sec\n",
      "0.028 sec: comprehension vs loop: -18.8%\n",
      "found: 49381\n",
      "found: 49381\n"
     ]
    }
   ],
   "source": [
    "# expression with condition (filter via if): square only the even numbers among the 100,000 in the list\n",
    "\n",
    "rands = [random.randrange(1, 100, 1) for i in range(100000)]\n",
    "\n",
    "\n",
    "t = time.perf_counter()\n",
    "# >>>>>>>>>>>>>>>>>>>>>>>>\n",
    "rands2 = []\n",
    "for n in rands:\n",
    "    if n % 2 == 0:\n",
    "        n = n**2\n",
    "        rands2.append(n)\n",
    "# >>>>>>>>>>>>>>>>>>>>>>>>\n",
    "tLoop = time.perf_counter() - t\n",
    "print(f'{tLoop:.3f} sec')\n",
    "\n",
    "\n",
    "t = time.perf_counter()\n",
    "# >>>>>>>>>>>>>>>>>>>>>>>>>>>>>>>>\n",
    "c = [n**2 for n in rands if n % 2 == 0]\n",
    "# >>>>>>>>>>>>>>>>>>>>>>>>>>>>>>>>\n",
    "tComp = time.perf_counter() - t\n",
    "print(f'{tComp:.3f} sec: comprehension vs loop: {100*(tComp/tLoop-1):.1f}%')\n",
    "\n",
    "print(\"found: \" + str(len(rands2)))\n",
    "print(\"found: \" + str(len(c)))"
   ]
  },
  {
   "cell_type": "code",
   "execution_count": 83,
   "metadata": {},
   "outputs": [
    {
     "data": {
      "text/plain": [
       "['Day 15 in October of year 2021 is a Friday',\n",
       " 'Day 16 in October of year 2021 is a Saturday',\n",
       " 'Day 17 in October of year 2021 is a Sunday',\n",
       " 'Day 18 in October of year 2021 is a Monday']"
      ]
     },
     "execution_count": 83,
     "metadata": {},
     "output_type": "execute_result"
    }
   ],
   "source": [
    "# list comprehension for text\n",
    "\n",
    "# create a list of 10,000 dates\n",
    "datlist = pd.date_range(dt.datetime.today(), periods=10000).tolist()\n",
    "\n",
    "# convert the dates to strings via list comprehension\n",
    "datstrlist = [d.strftime(\"Day %d in %B of year %Y is a %A\") for d in datlist]\n",
    "datstrlist[:4]\n"
   ]
  },
  {
   "cell_type": "code",
   "execution_count": 84,
   "metadata": {},
   "outputs": [
    {
     "name": "stdout",
     "output_type": "stream",
     "text": [
      "0.0048 sec\n",
      "0.0047 sec: comprehension vs loop: -2.1%\n"
     ]
    },
    {
     "data": {
      "text/html": [
       "<div>\n",
       "<style scoped>\n",
       "    .dataframe tbody tr th:only-of-type {\n",
       "        vertical-align: middle;\n",
       "    }\n",
       "\n",
       "    .dataframe tbody tr th {\n",
       "        vertical-align: top;\n",
       "    }\n",
       "\n",
       "    .dataframe thead th {\n",
       "        text-align: right;\n",
       "    }\n",
       "</style>\n",
       "<table border=\"1\" class=\"dataframe\">\n",
       "  <thead>\n",
       "    <tr style=\"text-align: right;\">\n",
       "      <th></th>\n",
       "      <th>loop</th>\n",
       "      <th>comprehension</th>\n",
       "    </tr>\n",
       "  </thead>\n",
       "  <tbody>\n",
       "    <tr>\n",
       "      <th>0</th>\n",
       "      <td>Day 15 in October of year 2021 is a Friday</td>\n",
       "      <td>Day 15 in October of year 2021 is a Friday</td>\n",
       "    </tr>\n",
       "    <tr>\n",
       "      <th>1</th>\n",
       "      <td>Day 16 in October of year 2021 is a Saturday =...</td>\n",
       "      <td>Day 16 in October of year 2021 is a Saturday =...</td>\n",
       "    </tr>\n",
       "    <tr>\n",
       "      <th>2</th>\n",
       "      <td>Day 17 in October of year 2021 is a Sunday = O...</td>\n",
       "      <td>Day 17 in October of year 2021 is a Sunday = O...</td>\n",
       "    </tr>\n",
       "    <tr>\n",
       "      <th>3</th>\n",
       "      <td>Day 18 in October of year 2021 is a Monday</td>\n",
       "      <td>Day 18 in October of year 2021 is a Monday</td>\n",
       "    </tr>\n",
       "    <tr>\n",
       "      <th>4</th>\n",
       "      <td>Day 19 in October of year 2021 is a Tuesday</td>\n",
       "      <td>Day 19 in October of year 2021 is a Tuesday</td>\n",
       "    </tr>\n",
       "    <tr>\n",
       "      <th>...</th>\n",
       "      <td>...</td>\n",
       "      <td>...</td>\n",
       "    </tr>\n",
       "    <tr>\n",
       "      <th>9995</th>\n",
       "      <td>Day 25 in February of year 2049 is a Thursday</td>\n",
       "      <td>Day 25 in February of year 2049 is a Thursday</td>\n",
       "    </tr>\n",
       "    <tr>\n",
       "      <th>9996</th>\n",
       "      <td>Day 26 in February of year 2049 is a Friday</td>\n",
       "      <td>Day 26 in February of year 2049 is a Friday</td>\n",
       "    </tr>\n",
       "    <tr>\n",
       "      <th>9997</th>\n",
       "      <td>Day 27 in February of year 2049 is a Saturday</td>\n",
       "      <td>Day 27 in February of year 2049 is a Saturday</td>\n",
       "    </tr>\n",
       "    <tr>\n",
       "      <th>9998</th>\n",
       "      <td>Day 28 in February of year 2049 is a Sunday</td>\n",
       "      <td>Day 28 in February of year 2049 is a Sunday</td>\n",
       "    </tr>\n",
       "    <tr>\n",
       "      <th>9999</th>\n",
       "      <td>Day 01 in March of year 2049 is a Monday</td>\n",
       "      <td>Day 01 in March of year 2049 is a Monday</td>\n",
       "    </tr>\n",
       "  </tbody>\n",
       "</table>\n",
       "<p>10000 rows × 2 columns</p>\n",
       "</div>"
      ],
      "text/plain": [
       "                                                   loop  \\\n",
       "0            Day 15 in October of year 2021 is a Friday   \n",
       "1     Day 16 in October of year 2021 is a Saturday =...   \n",
       "2     Day 17 in October of year 2021 is a Sunday = O...   \n",
       "3            Day 18 in October of year 2021 is a Monday   \n",
       "4           Day 19 in October of year 2021 is a Tuesday   \n",
       "...                                                 ...   \n",
       "9995      Day 25 in February of year 2049 is a Thursday   \n",
       "9996        Day 26 in February of year 2049 is a Friday   \n",
       "9997      Day 27 in February of year 2049 is a Saturday   \n",
       "9998        Day 28 in February of year 2049 is a Sunday   \n",
       "9999           Day 01 in March of year 2049 is a Monday   \n",
       "\n",
       "                                          comprehension  \n",
       "0            Day 15 in October of year 2021 is a Friday  \n",
       "1     Day 16 in October of year 2021 is a Saturday =...  \n",
       "2     Day 17 in October of year 2021 is a Sunday = O...  \n",
       "3            Day 18 in October of year 2021 is a Monday  \n",
       "4           Day 19 in October of year 2021 is a Tuesday  \n",
       "...                                                 ...  \n",
       "9995      Day 25 in February of year 2049 is a Thursday  \n",
       "9996        Day 26 in February of year 2049 is a Friday  \n",
       "9997      Day 27 in February of year 2049 is a Saturday  \n",
       "9998        Day 28 in February of year 2049 is a Sunday  \n",
       "9999           Day 01 in March of year 2049 is a Monday  \n",
       "\n",
       "[10000 rows x 2 columns]"
      ]
     },
     "execution_count": 84,
     "metadata": {},
     "output_type": "execute_result"
    }
   ],
   "source": [
    "# filter the list of strings:\n",
    "# example: add \"weekend\" to Saturdays and Sundays in October of each year\n",
    "\n",
    "t = time.perf_counter()\n",
    "# >>>>>>>>>>>>>>>>>>>>>>>>>>>>>>>>>\n",
    "strLoop = []\n",
    "for d in datstrlist:\n",
    "    if (d.endswith(\"urday\") or d.endswith(\"unday\")) and \"Oc\" in d:\n",
    "        strLoop.append(d + \" = Oct weekend\")\n",
    "    else:\n",
    "        strLoop.append(d)\n",
    "# >>>>>>>>>>>>>>>>>>>>>>>>>>>>>>>>\n",
    "tLoop = time.perf_counter() - t\n",
    "print(f'{tLoop:.4f} sec')\n",
    "\n",
    "\n",
    "t = time.perf_counter()\n",
    "# >>>>>>>>>>>>>>>>>>>>>>>>>>>>>>>>>\n",
    "c = [d + \" = Oct weekend\" if ((d.endswith(\"urday\") or d.endswith(\"unday\")) and \"Oc\" in d) else d for d in datstrlist]\n",
    "# >>>>>>>>>>>>>>>>>>>>>>>>>>>>>>>>\n",
    "tComp = time.perf_counter() - t\n",
    "print(f'{tComp:.4f} sec: comprehension vs loop: {100*(tComp/tLoop-1):.1f}%')\n",
    "\n",
    "df = pd.DataFrame(list(zip(strLoop,c)), columns=(\"loop\",\"comprehension\"))\n",
    "df"
   ]
  },
  {
   "cell_type": "code",
   "execution_count": 85,
   "metadata": {},
   "outputs": [
    {
     "name": "stdout",
     "output_type": "stream",
     "text": [
      "0.0001 sec\n",
      "0.0033 sec: comprehension vs lambda-filter: 2271.2%\n"
     ]
    },
    {
     "data": {
      "text/html": [
       "<div>\n",
       "<style scoped>\n",
       "    .dataframe tbody tr th:only-of-type {\n",
       "        vertical-align: middle;\n",
       "    }\n",
       "\n",
       "    .dataframe tbody tr th {\n",
       "        vertical-align: top;\n",
       "    }\n",
       "\n",
       "    .dataframe thead th {\n",
       "        text-align: right;\n",
       "    }\n",
       "</style>\n",
       "<table border=\"1\" class=\"dataframe\">\n",
       "  <thead>\n",
       "    <tr style=\"text-align: right;\">\n",
       "      <th></th>\n",
       "      <th>lambda</th>\n",
       "      <th>comprehension</th>\n",
       "    </tr>\n",
       "  </thead>\n",
       "  <tbody>\n",
       "    <tr>\n",
       "      <th>0</th>\n",
       "      <td>Day 16 in October of year 2021 is a Saturday</td>\n",
       "      <td>Day 16 in October of year 2021 is a Saturday</td>\n",
       "    </tr>\n",
       "    <tr>\n",
       "      <th>1</th>\n",
       "      <td>Day 17 in October of year 2021 is a Sunday</td>\n",
       "      <td>Day 17 in October of year 2021 is a Sunday</td>\n",
       "    </tr>\n",
       "    <tr>\n",
       "      <th>2</th>\n",
       "      <td>Day 23 in October of year 2021 is a Saturday</td>\n",
       "      <td>Day 23 in October of year 2021 is a Saturday</td>\n",
       "    </tr>\n",
       "    <tr>\n",
       "      <th>3</th>\n",
       "      <td>Day 24 in October of year 2021 is a Sunday</td>\n",
       "      <td>Day 24 in October of year 2021 is a Sunday</td>\n",
       "    </tr>\n",
       "    <tr>\n",
       "      <th>4</th>\n",
       "      <td>Day 30 in October of year 2021 is a Saturday</td>\n",
       "      <td>Day 30 in October of year 2021 is a Saturday</td>\n",
       "    </tr>\n",
       "    <tr>\n",
       "      <th>...</th>\n",
       "      <td>...</td>\n",
       "      <td>...</td>\n",
       "    </tr>\n",
       "    <tr>\n",
       "      <th>239</th>\n",
       "      <td>Day 17 in October of year 2048 is a Saturday</td>\n",
       "      <td>Day 17 in October of year 2048 is a Saturday</td>\n",
       "    </tr>\n",
       "    <tr>\n",
       "      <th>240</th>\n",
       "      <td>Day 18 in October of year 2048 is a Sunday</td>\n",
       "      <td>Day 18 in October of year 2048 is a Sunday</td>\n",
       "    </tr>\n",
       "    <tr>\n",
       "      <th>241</th>\n",
       "      <td>Day 24 in October of year 2048 is a Saturday</td>\n",
       "      <td>Day 24 in October of year 2048 is a Saturday</td>\n",
       "    </tr>\n",
       "    <tr>\n",
       "      <th>242</th>\n",
       "      <td>Day 25 in October of year 2048 is a Sunday</td>\n",
       "      <td>Day 25 in October of year 2048 is a Sunday</td>\n",
       "    </tr>\n",
       "    <tr>\n",
       "      <th>243</th>\n",
       "      <td>Day 31 in October of year 2048 is a Saturday</td>\n",
       "      <td>Day 31 in October of year 2048 is a Saturday</td>\n",
       "    </tr>\n",
       "  </tbody>\n",
       "</table>\n",
       "<p>244 rows × 2 columns</p>\n",
       "</div>"
      ],
      "text/plain": [
       "                                           lambda  \\\n",
       "0    Day 16 in October of year 2021 is a Saturday   \n",
       "1      Day 17 in October of year 2021 is a Sunday   \n",
       "2    Day 23 in October of year 2021 is a Saturday   \n",
       "3      Day 24 in October of year 2021 is a Sunday   \n",
       "4    Day 30 in October of year 2021 is a Saturday   \n",
       "..                                            ...   \n",
       "239  Day 17 in October of year 2048 is a Saturday   \n",
       "240    Day 18 in October of year 2048 is a Sunday   \n",
       "241  Day 24 in October of year 2048 is a Saturday   \n",
       "242    Day 25 in October of year 2048 is a Sunday   \n",
       "243  Day 31 in October of year 2048 is a Saturday   \n",
       "\n",
       "                                    comprehension  \n",
       "0    Day 16 in October of year 2021 is a Saturday  \n",
       "1      Day 17 in October of year 2021 is a Sunday  \n",
       "2    Day 23 in October of year 2021 is a Saturday  \n",
       "3      Day 24 in October of year 2021 is a Sunday  \n",
       "4    Day 30 in October of year 2021 is a Saturday  \n",
       "..                                            ...  \n",
       "239  Day 17 in October of year 2048 is a Saturday  \n",
       "240    Day 18 in October of year 2048 is a Sunday  \n",
       "241  Day 24 in October of year 2048 is a Saturday  \n",
       "242    Day 25 in October of year 2048 is a Sunday  \n",
       "243  Day 31 in October of year 2048 is a Saturday  \n",
       "\n",
       "[244 rows x 2 columns]"
      ]
     },
     "execution_count": 85,
     "metadata": {},
     "output_type": "execute_result"
    }
   ],
   "source": [
    "# comprehensions vs lambda-filters\n",
    "\n",
    "rands = [random.randrange(1, 100, 1) for i in range(100000)]\n",
    "\n",
    "\n",
    "t = time.perf_counter()\n",
    "# >>>>>>>>>>>>>>>>>>>>>>>>>>>>>>>>>\n",
    "strLamb = filter(lambda d: ((d.endswith(\"urday\") or d.endswith(\"unday\")) and \"Oc\" in d), datstrlist)\n",
    "# >>>>>>>>>>>>>>>>>>>>>>>>>>>>>>>>\n",
    "tLamb = time.perf_counter() - t\n",
    "print(f'{tLamb:.4f} sec')\n",
    "\n",
    "\n",
    "t = time.perf_counter()\n",
    "# >>>>>>>>>>>>>>>>>>>>>>>>>>>>>>>>>\n",
    "c = [d for d in datstrlist if ((d.endswith(\"urday\") or d.endswith(\"unday\")) and \"Oc\" in d)]\n",
    "# >>>>>>>>>>>>>>>>>>>>>>>>>>>>>>>>\n",
    "tComp = time.perf_counter() - t\n",
    "print(f'{tComp:.4f} sec: comprehension vs lambda-filter: {100*(tComp/tLamb-1):.1f}%')\n",
    "\n",
    "\n",
    "df = pd.DataFrame(list(zip(strLamb,c)), columns=(\"lambda\",\"comprehension\"))\n",
    "df\n"
   ]
  }
 ],
 "metadata": {
  "interpreter": {
   "hash": "5c4574b7b28e8ce007f55bfc2ed5e1ec179f87a9d33bacf8c3f67a3f1e3ae394"
  },
  "kernelspec": {
   "display_name": "Python 3.7.11 64-bit ('ho02': conda)",
   "name": "python3"
  },
  "language_info": {
   "codemirror_mode": {
    "name": "ipython",
    "version": 3
   },
   "file_extension": ".py",
   "mimetype": "text/x-python",
   "name": "python",
   "nbconvert_exporter": "python",
   "pygments_lexer": "ipython3",
   "version": "3.7.11"
  },
  "orig_nbformat": 4
 },
 "nbformat": 4,
 "nbformat_minor": 2
}
