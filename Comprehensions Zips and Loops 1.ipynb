{
 "cells": [
  {
   "cell_type": "code",
   "execution_count": 1,
   "metadata": {},
   "outputs": [],
   "source": [
    "import pandas as pd\n",
    "import numpy as np\n",
    "import random\n",
    "import time\n",
    "import datetime as dt\n"
   ]
  },
  {
   "cell_type": "markdown",
   "metadata": {},
   "source": [
    "# Lists and Dictionaries via Zipping and Comprehensions"
   ]
  },
  {
   "cell_type": "code",
   "execution_count": 2,
   "metadata": {},
   "outputs": [
    {
     "data": {
      "text/plain": [
       "['RMSE', 'MAPE', 'R-SQ']"
      ]
     },
     "execution_count": 2,
     "metadata": {},
     "output_type": "execute_result"
    }
   ],
   "source": [
    "# zipping two or more separate lists to generate a combined list of tuples\n",
    "\n",
    "# example: assume we have multiple values the script has provided;\n",
    "# for instance, different prediction accuracy metrics such as RMSE, MAPE, R-squared\n",
    "# we want to assign each of the results to a specific variable\n",
    "\n",
    "inputs = [1, 0.04, 0.9]\n",
    "\n",
    "# clumsy: manual assignment of a results list and assigning to specific variables:\n",
    "inputs = [1, 0.04, 0.9]\n",
    "rmse = inputs[0]\n",
    "mape = inputs[1]\n",
    "rsq = inputs[2]\n",
    "\n",
    "# better: unpacking of the list\n",
    "rmse, mape, rsq = inputs\n",
    "\n",
    "\n",
    "# collect multiple calculations results in a list\n",
    "acc_values = [rmse, mape, rsq]\n",
    "\n",
    "# define a list of names for these results\n",
    "acc_names = [\"RMSE\", \"MAPE\", \"R-sq\"]\n",
    "\n",
    "# alternative to creating a list: \n",
    "# asterisk * in front of the list variable; and a comma , behind it\n",
    "*acc_names, = \"RMSE\", \"MAPE\", \"R-SQ\"\n",
    "\n",
    "acc_names"
   ]
  },
  {
   "cell_type": "code",
   "execution_count": 3,
   "metadata": {},
   "outputs": [
    {
     "data": {
      "text/plain": [
       "[('RMSE', 1), ('MAPE', 0.04), ('R-SQ', 0.9)]"
      ]
     },
     "execution_count": 3,
     "metadata": {},
     "output_type": "execute_result"
    }
   ],
   "source": [
    "# combine the names of the metrics and their values \n",
    "# via zipping to a list of tuples\n",
    "\n",
    "acc_list = list(zip(acc_names, acc_values))\n",
    "\n",
    "acc_list"
   ]
  },
  {
   "cell_type": "code",
   "execution_count": 4,
   "metadata": {},
   "outputs": [
    {
     "name": "stdout",
     "output_type": "stream",
     "text": [
      "('RMSE', 'MAPE', 'R-SQ')\n",
      "(1, 0.04, 0.9)\n"
     ]
    }
   ],
   "source": [
    "# unzipping a list of tuples: use the asterisk *\n",
    "\n",
    "names, values = zip(*acc_list)\n",
    "\n",
    "print(names)\n",
    "print(values)"
   ]
  },
  {
   "cell_type": "code",
   "execution_count": 5,
   "metadata": {},
   "outputs": [
    {
     "data": {
      "text/plain": [
       "[('RMSE', 1), ('MAPE', 0.04)]"
      ]
     },
     "execution_count": 5,
     "metadata": {},
     "output_type": "execute_result"
    }
   ],
   "source": [
    "# zipping lists of unequal length\n",
    "# zip takes the shorter list and skips the corresponding item of the longer partner list\n",
    "\n",
    "*acc_names2, = \"RMSE\", \"MAPE\"\n",
    "*acc_values2, = rmse, mape, rsq\n",
    "\n",
    "acc_list2 = list(zip(acc_names2, acc_values2))\n",
    "acc_list2"
   ]
  },
  {
   "cell_type": "code",
   "execution_count": 6,
   "metadata": {},
   "outputs": [
    {
     "data": {
      "text/plain": [
       "[('RMSE', 1), ('MAPE', 0.04), ('R-sq', 0.9), ('MSE', None)]"
      ]
     },
     "execution_count": 6,
     "metadata": {},
     "output_type": "execute_result"
    }
   ],
   "source": [
    "# zipping lists of unequal length by using function zip_longest\n",
    "# zip_longest also shows list items that don't have a partner item in the other list\n",
    "\n",
    "from itertools import zip_longest\n",
    "\n",
    "# create multiple lists\n",
    "*acc_names3, = \"RMSE\", \"MAPE\", \"R-sq\", \"MSE\"\n",
    "*acc_values3, = rmse, mape, rsq\n",
    "\n",
    "# combine them to a list of tuples\n",
    "acc_list3 = list(zip_longest(acc_names3, acc_values3))\n",
    "acc_list3"
   ]
  },
  {
   "cell_type": "code",
   "execution_count": 7,
   "metadata": {},
   "outputs": [
    {
     "data": {
      "text/plain": [
       "{'RMSE': 1, 'MAPE': 0.04, 'R-SQ': 0.9}"
      ]
     },
     "execution_count": 7,
     "metadata": {},
     "output_type": "execute_result"
    }
   ],
   "source": [
    "# convert the list of zipped tuples to a dictionary\n",
    "\n",
    "acc_dict = dict(acc_list)\n",
    "acc_dict\n"
   ]
  },
  {
   "cell_type": "code",
   "execution_count": 8,
   "metadata": {},
   "outputs": [
    {
     "data": {
      "text/plain": [
       "{'RMSE': 1, 'MAPE': 0.04, 'R-SQ': 0.9}"
      ]
     },
     "execution_count": 8,
     "metadata": {},
     "output_type": "execute_result"
    }
   ],
   "source": [
    "# zip the lists of names and values directly into a dictionary,\n",
    "# without creating a list of tuples in between\n",
    "\n",
    "acc_dict = {k: v for k, v in zip(acc_names, acc_values)}\n",
    "acc_dict"
   ]
  },
  {
   "cell_type": "code",
   "execution_count": 9,
   "metadata": {},
   "outputs": [
    {
     "name": "stdout",
     "output_type": "stream",
     "text": [
      "1\n",
      "0.04\n",
      "0.9\n"
     ]
    }
   ],
   "source": [
    "# unpack the values of a dictionary and assign to separate variables\n",
    "\n",
    "rmse, mape, rsq = acc_dict.values()\n",
    "print(rmse)\n",
    "print(mape)\n",
    "print(rsq)"
   ]
  },
  {
   "cell_type": "code",
   "execution_count": 10,
   "metadata": {},
   "outputs": [
    {
     "name": "stdout",
     "output_type": "stream",
     "text": [
      "['RMSE', 'MAPE', 'R-SQ']\n",
      "[1, 0.04, 0.9]\n"
     ]
    }
   ],
   "source": [
    "# unpack the values or keys of a dictionary to a list\n",
    "# use the .keys and .values() functions and then typecast to a list using the list() function\n",
    "\n",
    "acc_keys = list(acc_dict.keys())   \n",
    "print(acc_keys) \n",
    "acc_values = list(acc_dict.values())    \n",
    "print(acc_values)"
   ]
  },
  {
   "cell_type": "code",
   "execution_count": 11,
   "metadata": {},
   "outputs": [
    {
     "name": "stdout",
     "output_type": "stream",
     "text": [
      "('RMSE', 1)\n",
      "('MAPE', 0.04)\n",
      "('R-SQ', 0.9)\n"
     ]
    }
   ],
   "source": [
    "# unpack the keys and values of a dictionary to separate tuples\n",
    "\n",
    "rmse, mape, rsq = acc_dict.items()\n",
    "print(rmse)\n",
    "print(mape)\n",
    "print(rsq)"
   ]
  },
  {
   "cell_type": "code",
   "execution_count": 12,
   "metadata": {},
   "outputs": [
    {
     "data": {
      "text/plain": [
       "[('RMSE', 1), ('MAPE', 0.04), ('R-SQ', 0.9)]"
      ]
     },
     "execution_count": 12,
     "metadata": {},
     "output_type": "execute_result"
    }
   ],
   "source": [
    "# unpack a dictionary to a list of tuples by using zip() and list()\n",
    "\n",
    "acc_tuples = list(zip(acc_dict.keys(), acc_dict.values()))\n",
    "acc_tuples\n"
   ]
  },
  {
   "cell_type": "code",
   "execution_count": 13,
   "metadata": {},
   "outputs": [
    {
     "data": {
      "text/plain": [
       "[('RMSE', 1), ('MAPE', 0.04), ('R-SQ', 0.9)]"
      ]
     },
     "execution_count": 13,
     "metadata": {},
     "output_type": "execute_result"
    }
   ],
   "source": [
    "# unpack a dictionary to a list of tuples \n",
    "\n",
    "acc_tuples = list(acc_dict.items())\n",
    "acc_tuples\n"
   ]
  },
  {
   "cell_type": "code",
   "execution_count": 14,
   "metadata": {},
   "outputs": [
    {
     "name": "stdout",
     "output_type": "stream",
     "text": [
      "RMSE : 1\n",
      "MAPE : 0.04\n",
      "R-SQ : 0.9\n"
     ]
    },
    {
     "data": {
      "text/plain": [
       "[None, None, None]"
      ]
     },
     "execution_count": 14,
     "metadata": {},
     "output_type": "execute_result"
    }
   ],
   "source": [
    "# print the dictionary values and their names line by line: list comprehension\n",
    "\n",
    "[print(k, \":\", v) for k,v in acc_dict.items()]"
   ]
  },
  {
   "cell_type": "code",
   "execution_count": 15,
   "metadata": {},
   "outputs": [
    {
     "name": "stdout",
     "output_type": "stream",
     "text": [
      "RMSE : 1\n",
      "MAPE : 0.04\n",
      "R-SQ : 0.9\n",
      "\n",
      "\n"
     ]
    }
   ],
   "source": [
    "# list comprehension for printing, without list of Nones\n",
    "\n",
    "[print(k, \":\", v) for k,v in acc_dict.items()]\n",
    "print(\"\\n\")"
   ]
  },
  {
   "cell_type": "code",
   "execution_count": 16,
   "metadata": {},
   "outputs": [
    {
     "name": "stdout",
     "output_type": "stream",
     "text": [
      "RMSE : 1\n",
      "MAPE : 0.04\n",
      "R-SQ : 0.9\n"
     ]
    }
   ],
   "source": [
    "# list comprehension for printing, without list of Nones\n",
    "\n",
    "[print(k, \":\", v) for k,v in acc_dict.items()]\n",
    "pass"
   ]
  },
  {
   "cell_type": "code",
   "execution_count": 17,
   "metadata": {},
   "outputs": [
    {
     "name": "stdout",
     "output_type": "stream",
     "text": [
      "RMSE : 1\n",
      "MAPE : 0.04\n",
      "R-SQ : 0.9\n"
     ]
    }
   ],
   "source": [
    "# dictionary comprehension for printing, without list of Nones\n",
    "\n",
    "y = [print(k, \":\", v) for k,v in acc_dict.items()]"
   ]
  },
  {
   "cell_type": "code",
   "execution_count": 18,
   "metadata": {},
   "outputs": [
    {
     "name": "stdout",
     "output_type": "stream",
     "text": [
      "RMSE : 1\n",
      "MAPE : 0.04\n",
      "R-SQ : 0.9\n"
     ]
    }
   ],
   "source": [
    "# dictionary comprehension for printing, without list of Nones\n",
    "\n",
    "_ = [print(k, \":\", v) for k,v in acc_dict.items()]"
   ]
  },
  {
   "cell_type": "code",
   "execution_count": 19,
   "metadata": {},
   "outputs": [
    {
     "name": "stdout",
     "output_type": "stream",
     "text": [
      "RMSE : 1.0\n",
      "MAPE : 0.0\n",
      "R-SQ : 0.9\n"
     ]
    }
   ],
   "source": [
    "# list comprehension for pretty-printing, with number format\n",
    "\n",
    "c = [print(k, \":\", f'{v:.1f}') for k,v in acc_dict.items()]"
   ]
  },
  {
   "cell_type": "code",
   "execution_count": 20,
   "metadata": {},
   "outputs": [
    {
     "name": "stdout",
     "output_type": "stream",
     "text": [
      "RMSE:1.0\n",
      "MAPE:0.0\n",
      "R-SQ:0.9\n"
     ]
    }
   ],
   "source": [
    "# on the web, I've seen an alternative:\n",
    "# the use of functions with a loop to unpack and print dictionary items\n",
    "# the double asterisk ** in the function call unpacks the dictionary\n",
    "# the **kwargs argument accepts an undetermined number of keyword arguments\n",
    "# it needs 4 lines of code where the list comprehension needed 1 to print the dictionary\n",
    "\n",
    "def print_dict(**kwargs):\n",
    "    for key,value in kwargs.items():\n",
    "        print(f'{key}:{value:.1f}')\n",
    "\n",
    "# call function:\n",
    "print_dict(**acc_dict)\n",
    "\n"
   ]
  },
  {
   "cell_type": "code",
   "execution_count": 21,
   "metadata": {},
   "outputs": [
    {
     "name": "stdout",
     "output_type": "stream",
     "text": [
      "RMSE : 1.0\n",
      "MAPE : 0.0\n",
      "R-sq : 0.9\n",
      "RMSE : 1.0\n",
      "MAPE : 0.0\n",
      "R-sq : 0.9\n"
     ]
    }
   ],
   "source": [
    "# summary:\n",
    "# if you have multiple values with individual names, e.g. a list of metrics which\n",
    "# you want to summarize, collect the values in a list\n",
    "rmse = 1\n",
    "mape = 0.04\n",
    "rsq = 0.9\n",
    "acc_values = [rmse, mape, rsq]\n",
    "\n",
    "# define a list of names for the metrics\n",
    "acc_names = [\"RMSE\", \"MAPE\", \"R-sq\"]\n",
    "\n",
    "# combine the lists of names and values via zipping to a dictionary\n",
    "acc_dict = {k: v for k, v in zip(acc_names, acc_values)}\n",
    "\n",
    "# pretty-print the dictionary of metrics\n",
    "_ = [print(k, \":\", f'{v:.1f}') for k,v in acc_dict.items()]\n",
    "\n",
    "_ = [print(k, \":\", f'{v:.1f}') for k,v in {k: v for k, v in zip(acc_names, acc_values)}.items()]\n",
    "\n"
   ]
  },
  {
   "cell_type": "markdown",
   "metadata": {},
   "source": [
    "# Performance of Comprehensions vs. Loops"
   ]
  },
  {
   "cell_type": "code",
   "execution_count": 22,
   "metadata": {},
   "outputs": [
    {
     "name": "stdout",
     "output_type": "stream",
     "text": [
      "[79, 6, 97, 47, 25]\n",
      "[6241, 36, 9409, 2209, 625]\n"
     ]
    },
    {
     "data": {
      "text/plain": [
       "[6241, 36, 9409, 2209, 625]"
      ]
     },
     "execution_count": 22,
     "metadata": {},
     "output_type": "execute_result"
    }
   ],
   "source": [
    "# small list of random numbers: the jurassic way to square them in a for loop\n",
    "\n",
    "rands = [random.randrange(1, 100, 1) for i in range(5)]\n",
    "print(rands)\n",
    "\n",
    "# list of random numbers: the jurassic way to square them in a for loop\n",
    "rands2 = []\n",
    "for n in rands:\n",
    "    n = n**2\n",
    "    rands2.append(n)\n",
    "print(rands2)\n",
    "\n",
    "\n",
    "# list comprehension to square them\n",
    "c = [n**2 for n in rands]\n",
    "c"
   ]
  },
  {
   "cell_type": "code",
   "execution_count": 23,
   "metadata": {},
   "outputs": [
    {
     "name": "stdout",
     "output_type": "stream",
     "text": [
      "0.057 sec\n",
      "0.042 sec: comprehension vs loop: -26.1%\n"
     ]
    }
   ],
   "source": [
    "# list comprehension to square each number in a LARGE list of 100,000 numbers\n",
    "\n",
    "rands = [random.randrange(1, 100, 1) for i in range(100000)]\n",
    "\n",
    "t = time.perf_counter()\n",
    "# >>>>>>>>>>>>>>>>>>>>>>>>\n",
    "rands2 = []\n",
    "for n in rands:\n",
    "    n = n**2\n",
    "    rands2.append(n)\n",
    "# >>>>>>>>>>>>>>>>>>>>>>>>\n",
    "tLoop = time.perf_counter() - t\n",
    "print(f'{tLoop:.3f} sec')\n",
    "\n",
    "\n",
    "t = time.perf_counter()\n",
    "# >>>>>>>>>>>>>>>>>>>>>>>>>>>>>>>>\n",
    "_ = [n**2 for n in rands]\n",
    "# >>>>>>>>>>>>>>>>>>>>>>>>>>>>>>>>\n",
    "tComp = time.perf_counter() - t\n",
    "print(f'{tComp:.3f} sec: comprehension vs loop: {100*(tComp/tLoop-1):.1f}%')"
   ]
  },
  {
   "cell_type": "code",
   "execution_count": 24,
   "metadata": {},
   "outputs": [
    {
     "name": "stdout",
     "output_type": "stream",
     "text": [
      "0.015 sec\n",
      "0.007 sec: comprehension vs loop: -54.0%\n",
      "found: 9128\n",
      "found: 9128\n"
     ]
    }
   ],
   "source": [
    "# expression with a condition (filter via if): \n",
    "# square only those of the 100,000 numbers in the list which exceed 90\n",
    "\n",
    "rands = [random.randrange(1, 100, 1) for i in range(100000)]\n",
    "\n",
    "t = time.perf_counter()\n",
    "# >>>>>>>>>>>>>>>>>>>>>>>>\n",
    "rands2 = []\n",
    "for n in rands:\n",
    "    if n > 90:\n",
    "        n = n**2\n",
    "        rands2.append(n)\n",
    "# >>>>>>>>>>>>>>>>>>>>>>>>\n",
    "tLoop = time.perf_counter() - t\n",
    "print(f'{tLoop:.3f} sec')\n",
    "\n",
    "\n",
    "t = time.perf_counter()\n",
    "# >>>>>>>>>>>>>>>>>>>>>>>>>>>>>>>>\n",
    "c = [n**2 for n in rands if n > 90]\n",
    "# >>>>>>>>>>>>>>>>>>>>>>>>>>>>>>>>\n",
    "tComp = time.perf_counter() - t\n",
    "print(f'{tComp:.3f} sec: comprehension vs loop: {100*(tComp/tLoop-1):.1f}%')\n",
    "\n",
    "print(\"found: \" + str(len(rands2)))\n",
    "print(\"found: \" + str(len(c)))"
   ]
  },
  {
   "cell_type": "code",
   "execution_count": 25,
   "metadata": {},
   "outputs": [
    {
     "name": "stdout",
     "output_type": "stream",
     "text": [
      "0.043 sec\n",
      "0.027 sec: comprehension vs loop: -38.4%\n",
      "found: 49512\n",
      "found: 49512\n"
     ]
    }
   ],
   "source": [
    "# expression with condition (filter via if): square only the even numbers among the 100,000 in the list\n",
    "\n",
    "rands = [random.randrange(1, 100, 1) for i in range(100000)]\n",
    "\n",
    "\n",
    "t = time.perf_counter()\n",
    "# >>>>>>>>>>>>>>>>>>>>>>>>\n",
    "rands2 = []\n",
    "for n in rands:\n",
    "    if n % 2 == 0:\n",
    "        n = n**2\n",
    "        rands2.append(n)\n",
    "# >>>>>>>>>>>>>>>>>>>>>>>>\n",
    "tLoop = time.perf_counter() - t\n",
    "print(f'{tLoop:.3f} sec')\n",
    "\n",
    "\n",
    "t = time.perf_counter()\n",
    "# >>>>>>>>>>>>>>>>>>>>>>>>>>>>>>>>\n",
    "c = [n**2 for n in rands if n % 2 == 0]\n",
    "# >>>>>>>>>>>>>>>>>>>>>>>>>>>>>>>>\n",
    "tComp = time.perf_counter() - t\n",
    "print(f'{tComp:.3f} sec: comprehension vs loop: {100*(tComp/tLoop-1):.1f}%')\n",
    "\n",
    "print(\"found: \" + str(len(rands2)))\n",
    "print(\"found: \" + str(len(c)))"
   ]
  },
  {
   "cell_type": "code",
   "execution_count": 26,
   "metadata": {},
   "outputs": [
    {
     "data": {
      "text/plain": [
       "['Day 17 in October of year 2021 is a Sunday',\n",
       " 'Day 18 in October of year 2021 is a Monday',\n",
       " 'Day 19 in October of year 2021 is a Tuesday',\n",
       " 'Day 20 in October of year 2021 is a Wednesday']"
      ]
     },
     "execution_count": 26,
     "metadata": {},
     "output_type": "execute_result"
    }
   ],
   "source": [
    "# list comprehension for text\n",
    "\n",
    "# create a list of 10,000 dates\n",
    "datlist = pd.date_range(dt.datetime.today(), periods=10000).tolist()\n",
    "\n",
    "# convert the dates to strings via list comprehension\n",
    "datstrlist = [d.strftime(\"Day %d in %B of year %Y is a %A\") for d in datlist]\n",
    "datstrlist[:4]\n"
   ]
  },
  {
   "cell_type": "code",
   "execution_count": 27,
   "metadata": {},
   "outputs": [
    {
     "name": "stdout",
     "output_type": "stream",
     "text": [
      "0.0046 sec\n",
      "0.0042 sec: comprehension vs loop: -8.5%\n"
     ]
    },
    {
     "data": {
      "text/html": [
       "<div>\n",
       "<style scoped>\n",
       "    .dataframe tbody tr th:only-of-type {\n",
       "        vertical-align: middle;\n",
       "    }\n",
       "\n",
       "    .dataframe tbody tr th {\n",
       "        vertical-align: top;\n",
       "    }\n",
       "\n",
       "    .dataframe thead th {\n",
       "        text-align: right;\n",
       "    }\n",
       "</style>\n",
       "<table border=\"1\" class=\"dataframe\">\n",
       "  <thead>\n",
       "    <tr style=\"text-align: right;\">\n",
       "      <th></th>\n",
       "      <th>loop</th>\n",
       "      <th>comprehension</th>\n",
       "    </tr>\n",
       "  </thead>\n",
       "  <tbody>\n",
       "    <tr>\n",
       "      <th>0</th>\n",
       "      <td>Day 17 in October of year 2021 is a Sunday = O...</td>\n",
       "      <td>Day 17 in October of year 2021 is a Sunday = O...</td>\n",
       "    </tr>\n",
       "    <tr>\n",
       "      <th>1</th>\n",
       "      <td>Day 18 in October of year 2021 is a Monday</td>\n",
       "      <td>Day 18 in October of year 2021 is a Monday</td>\n",
       "    </tr>\n",
       "    <tr>\n",
       "      <th>2</th>\n",
       "      <td>Day 19 in October of year 2021 is a Tuesday</td>\n",
       "      <td>Day 19 in October of year 2021 is a Tuesday</td>\n",
       "    </tr>\n",
       "    <tr>\n",
       "      <th>3</th>\n",
       "      <td>Day 20 in October of year 2021 is a Wednesday</td>\n",
       "      <td>Day 20 in October of year 2021 is a Wednesday</td>\n",
       "    </tr>\n",
       "    <tr>\n",
       "      <th>4</th>\n",
       "      <td>Day 21 in October of year 2021 is a Thursday</td>\n",
       "      <td>Day 21 in October of year 2021 is a Thursday</td>\n",
       "    </tr>\n",
       "    <tr>\n",
       "      <th>...</th>\n",
       "      <td>...</td>\n",
       "      <td>...</td>\n",
       "    </tr>\n",
       "    <tr>\n",
       "      <th>9995</th>\n",
       "      <td>Day 27 in February of year 2049 is a Saturday</td>\n",
       "      <td>Day 27 in February of year 2049 is a Saturday</td>\n",
       "    </tr>\n",
       "    <tr>\n",
       "      <th>9996</th>\n",
       "      <td>Day 28 in February of year 2049 is a Sunday</td>\n",
       "      <td>Day 28 in February of year 2049 is a Sunday</td>\n",
       "    </tr>\n",
       "    <tr>\n",
       "      <th>9997</th>\n",
       "      <td>Day 01 in March of year 2049 is a Monday</td>\n",
       "      <td>Day 01 in March of year 2049 is a Monday</td>\n",
       "    </tr>\n",
       "    <tr>\n",
       "      <th>9998</th>\n",
       "      <td>Day 02 in March of year 2049 is a Tuesday</td>\n",
       "      <td>Day 02 in March of year 2049 is a Tuesday</td>\n",
       "    </tr>\n",
       "    <tr>\n",
       "      <th>9999</th>\n",
       "      <td>Day 03 in March of year 2049 is a Wednesday</td>\n",
       "      <td>Day 03 in March of year 2049 is a Wednesday</td>\n",
       "    </tr>\n",
       "  </tbody>\n",
       "</table>\n",
       "<p>10000 rows × 2 columns</p>\n",
       "</div>"
      ],
      "text/plain": [
       "                                                   loop  \\\n",
       "0     Day 17 in October of year 2021 is a Sunday = O...   \n",
       "1            Day 18 in October of year 2021 is a Monday   \n",
       "2           Day 19 in October of year 2021 is a Tuesday   \n",
       "3         Day 20 in October of year 2021 is a Wednesday   \n",
       "4          Day 21 in October of year 2021 is a Thursday   \n",
       "...                                                 ...   \n",
       "9995      Day 27 in February of year 2049 is a Saturday   \n",
       "9996        Day 28 in February of year 2049 is a Sunday   \n",
       "9997           Day 01 in March of year 2049 is a Monday   \n",
       "9998          Day 02 in March of year 2049 is a Tuesday   \n",
       "9999        Day 03 in March of year 2049 is a Wednesday   \n",
       "\n",
       "                                          comprehension  \n",
       "0     Day 17 in October of year 2021 is a Sunday = O...  \n",
       "1            Day 18 in October of year 2021 is a Monday  \n",
       "2           Day 19 in October of year 2021 is a Tuesday  \n",
       "3         Day 20 in October of year 2021 is a Wednesday  \n",
       "4          Day 21 in October of year 2021 is a Thursday  \n",
       "...                                                 ...  \n",
       "9995      Day 27 in February of year 2049 is a Saturday  \n",
       "9996        Day 28 in February of year 2049 is a Sunday  \n",
       "9997           Day 01 in March of year 2049 is a Monday  \n",
       "9998          Day 02 in March of year 2049 is a Tuesday  \n",
       "9999        Day 03 in March of year 2049 is a Wednesday  \n",
       "\n",
       "[10000 rows x 2 columns]"
      ]
     },
     "execution_count": 27,
     "metadata": {},
     "output_type": "execute_result"
    }
   ],
   "source": [
    "# filter the list of strings:\n",
    "# example: add \"weekend\" to Saturdays and Sundays in October of each year\n",
    "\n",
    "t = time.perf_counter()\n",
    "# >>>>>>>>>>>>>>>>>>>>>>>>>>>>>>>>>\n",
    "strLoop = []\n",
    "for d in datstrlist:\n",
    "    if (d.endswith(\"urday\") or d.endswith(\"unday\")) and \"Oc\" in d:\n",
    "        strLoop.append(d + \" = Oct weekend\")\n",
    "    else:\n",
    "        strLoop.append(d)\n",
    "# >>>>>>>>>>>>>>>>>>>>>>>>>>>>>>>>\n",
    "tLoop = time.perf_counter() - t\n",
    "print(f'{tLoop:.4f} sec')\n",
    "\n",
    "\n",
    "t = time.perf_counter()\n",
    "# >>>>>>>>>>>>>>>>>>>>>>>>>>>>>>>>>\n",
    "c = [d + \" = Oct weekend\" if ((d.endswith(\"urday\") or d.endswith(\"unday\")) and \"Oc\" in d) else d for d in datstrlist]\n",
    "# >>>>>>>>>>>>>>>>>>>>>>>>>>>>>>>>\n",
    "tComp = time.perf_counter() - t\n",
    "print(f'{tComp:.4f} sec: comprehension vs loop: {100*(tComp/tLoop-1):.1f}%')\n",
    "\n",
    "df = pd.DataFrame(list(zip(strLoop,c)), columns=(\"loop\",\"comprehension\"))\n",
    "df"
   ]
  },
  {
   "cell_type": "code",
   "execution_count": 115,
   "metadata": {},
   "outputs": [
    {
     "name": "stdout",
     "output_type": "stream",
     "text": [
      "0.13230 sec\n",
      "0.0559 sec: set comprehension vs loop: -57.7%\n"
     ]
    },
    {
     "data": {
      "text/html": [
       "<div>\n",
       "<style scoped>\n",
       "    .dataframe tbody tr th:only-of-type {\n",
       "        vertical-align: middle;\n",
       "    }\n",
       "\n",
       "    .dataframe tbody tr th {\n",
       "        vertical-align: top;\n",
       "    }\n",
       "\n",
       "    .dataframe thead th {\n",
       "        text-align: right;\n",
       "    }\n",
       "</style>\n",
       "<table border=\"1\" class=\"dataframe\">\n",
       "  <thead>\n",
       "    <tr style=\"text-align: right;\">\n",
       "      <th></th>\n",
       "      <th>0</th>\n",
       "      <th>1</th>\n",
       "      <th>2</th>\n",
       "      <th>3</th>\n",
       "      <th>4</th>\n",
       "      <th>5</th>\n",
       "      <th>6</th>\n",
       "      <th>7</th>\n",
       "      <th>8</th>\n",
       "      <th>9</th>\n",
       "      <th>...</th>\n",
       "      <th>15</th>\n",
       "      <th>16</th>\n",
       "      <th>17</th>\n",
       "      <th>18</th>\n",
       "      <th>19</th>\n",
       "      <th>20</th>\n",
       "      <th>21</th>\n",
       "      <th>22</th>\n",
       "      <th>23</th>\n",
       "      <th>24</th>\n",
       "    </tr>\n",
       "  </thead>\n",
       "  <tbody>\n",
       "    <tr>\n",
       "      <th>0</th>\n",
       "      <td>2</td>\n",
       "      <td>3</td>\n",
       "      <td>5</td>\n",
       "      <td>7</td>\n",
       "      <td>11</td>\n",
       "      <td>13</td>\n",
       "      <td>17</td>\n",
       "      <td>19</td>\n",
       "      <td>23</td>\n",
       "      <td>29</td>\n",
       "      <td>...</td>\n",
       "      <td>53</td>\n",
       "      <td>59</td>\n",
       "      <td>61</td>\n",
       "      <td>67</td>\n",
       "      <td>71</td>\n",
       "      <td>73</td>\n",
       "      <td>79</td>\n",
       "      <td>83</td>\n",
       "      <td>89</td>\n",
       "      <td>97</td>\n",
       "    </tr>\n",
       "    <tr>\n",
       "      <th>1</th>\n",
       "      <td>2</td>\n",
       "      <td>3</td>\n",
       "      <td>5</td>\n",
       "      <td>7</td>\n",
       "      <td>11</td>\n",
       "      <td>13</td>\n",
       "      <td>17</td>\n",
       "      <td>19</td>\n",
       "      <td>23</td>\n",
       "      <td>29</td>\n",
       "      <td>...</td>\n",
       "      <td>53</td>\n",
       "      <td>59</td>\n",
       "      <td>61</td>\n",
       "      <td>67</td>\n",
       "      <td>71</td>\n",
       "      <td>73</td>\n",
       "      <td>79</td>\n",
       "      <td>83</td>\n",
       "      <td>89</td>\n",
       "      <td>97</td>\n",
       "    </tr>\n",
       "  </tbody>\n",
       "</table>\n",
       "<p>2 rows × 25 columns</p>\n",
       "</div>"
      ],
      "text/plain": [
       "   0   1   2   3   4   5   6   7   8   9   ...  15  16  17  18  19  20  21  \\\n",
       "0   2   3   5   7  11  13  17  19  23  29  ...  53  59  61  67  71  73  79   \n",
       "1   2   3   5   7  11  13  17  19  23  29  ...  53  59  61  67  71  73  79   \n",
       "\n",
       "   22  23  24  \n",
       "0  83  89  97  \n",
       "1  83  89  97  \n",
       "\n",
       "[2 rows x 25 columns]"
      ]
     },
     "execution_count": 115,
     "metadata": {},
     "output_type": "execute_result"
    }
   ],
   "source": [
    "# loops vs vs set comprehensions\n",
    "# find all prime numbers up to N using the sieve of Eratosthenes\n",
    "\n",
    "N = 100000\n",
    "\n",
    "t = time.perf_counter()\n",
    "# >>>>>>>>>>>>>>>>>>>>>>>>>>>>>>>>>\n",
    "primes_loop = set(range(2, N))\n",
    "for i in range(2, int(N**0.5)+1):\n",
    "    for j in range(i**2, N, i):\n",
    "        primes_loop.discard(j)\n",
    "\n",
    "# >>>>>>>>>>>>>>>>>>>>>>>>>>>>>>>>\n",
    "tLoop = time.perf_counter() - t\n",
    "print(f'{tLoop:.5f} sec')\n",
    "\n",
    "\n",
    "t = time.perf_counter()\n",
    "# >>>>>>>>>>>>>>>>>>>>>>>>>>>>>>>>>\n",
    "primes_setcomp = set(range(2,N)) - {j for i in range(2, int(N**0.5)+1) for j in range(i**2, N, i)}\n",
    "\n",
    "# >>>>>>>>>>>>>>>>>>>>>>>>>>>>>>>>\n",
    "tComp = time.perf_counter() - t\n",
    "print(f'{tComp:.4f} sec: set comprehension vs loop: {100*(tComp/tLoop-1):.1f}%')\n",
    "\n",
    "\n",
    "assert primes_loop == primes_setcomp\n",
    "primes_list1 = [p for p in primes_loop if p < 100] \n",
    "primes_list2 = [p for p in primes_setcomp if p < 100] \n",
    "df = pd.DataFrame([primes_list1, primes_list2])\n",
    "df\n"
   ]
  },
  {
   "cell_type": "code",
   "execution_count": 28,
   "metadata": {},
   "outputs": [
    {
     "name": "stdout",
     "output_type": "stream",
     "text": [
      "0.000131 sec\n",
      "0.003407 sec: comprehension vs lambda-filter: 2508.9%\n"
     ]
    },
    {
     "data": {
      "text/html": [
       "<div>\n",
       "<style scoped>\n",
       "    .dataframe tbody tr th:only-of-type {\n",
       "        vertical-align: middle;\n",
       "    }\n",
       "\n",
       "    .dataframe tbody tr th {\n",
       "        vertical-align: top;\n",
       "    }\n",
       "\n",
       "    .dataframe thead th {\n",
       "        text-align: right;\n",
       "    }\n",
       "</style>\n",
       "<table border=\"1\" class=\"dataframe\">\n",
       "  <thead>\n",
       "    <tr style=\"text-align: right;\">\n",
       "      <th></th>\n",
       "      <th>lambda</th>\n",
       "      <th>comprehension</th>\n",
       "    </tr>\n",
       "  </thead>\n",
       "  <tbody>\n",
       "    <tr>\n",
       "      <th>0</th>\n",
       "      <td>Day 17 in October of year 2021 is a Sunday</td>\n",
       "      <td>Day 17 in October of year 2021 is a Sunday</td>\n",
       "    </tr>\n",
       "    <tr>\n",
       "      <th>1</th>\n",
       "      <td>Day 23 in October of year 2021 is a Saturday</td>\n",
       "      <td>Day 23 in October of year 2021 is a Saturday</td>\n",
       "    </tr>\n",
       "    <tr>\n",
       "      <th>2</th>\n",
       "      <td>Day 24 in October of year 2021 is a Sunday</td>\n",
       "      <td>Day 24 in October of year 2021 is a Sunday</td>\n",
       "    </tr>\n",
       "    <tr>\n",
       "      <th>3</th>\n",
       "      <td>Day 30 in October of year 2021 is a Saturday</td>\n",
       "      <td>Day 30 in October of year 2021 is a Saturday</td>\n",
       "    </tr>\n",
       "    <tr>\n",
       "      <th>4</th>\n",
       "      <td>Day 31 in October of year 2021 is a Sunday</td>\n",
       "      <td>Day 31 in October of year 2021 is a Sunday</td>\n",
       "    </tr>\n",
       "    <tr>\n",
       "      <th>...</th>\n",
       "      <td>...</td>\n",
       "      <td>...</td>\n",
       "    </tr>\n",
       "    <tr>\n",
       "      <th>238</th>\n",
       "      <td>Day 17 in October of year 2048 is a Saturday</td>\n",
       "      <td>Day 17 in October of year 2048 is a Saturday</td>\n",
       "    </tr>\n",
       "    <tr>\n",
       "      <th>239</th>\n",
       "      <td>Day 18 in October of year 2048 is a Sunday</td>\n",
       "      <td>Day 18 in October of year 2048 is a Sunday</td>\n",
       "    </tr>\n",
       "    <tr>\n",
       "      <th>240</th>\n",
       "      <td>Day 24 in October of year 2048 is a Saturday</td>\n",
       "      <td>Day 24 in October of year 2048 is a Saturday</td>\n",
       "    </tr>\n",
       "    <tr>\n",
       "      <th>241</th>\n",
       "      <td>Day 25 in October of year 2048 is a Sunday</td>\n",
       "      <td>Day 25 in October of year 2048 is a Sunday</td>\n",
       "    </tr>\n",
       "    <tr>\n",
       "      <th>242</th>\n",
       "      <td>Day 31 in October of year 2048 is a Saturday</td>\n",
       "      <td>Day 31 in October of year 2048 is a Saturday</td>\n",
       "    </tr>\n",
       "  </tbody>\n",
       "</table>\n",
       "<p>243 rows × 2 columns</p>\n",
       "</div>"
      ],
      "text/plain": [
       "                                           lambda  \\\n",
       "0      Day 17 in October of year 2021 is a Sunday   \n",
       "1    Day 23 in October of year 2021 is a Saturday   \n",
       "2      Day 24 in October of year 2021 is a Sunday   \n",
       "3    Day 30 in October of year 2021 is a Saturday   \n",
       "4      Day 31 in October of year 2021 is a Sunday   \n",
       "..                                            ...   \n",
       "238  Day 17 in October of year 2048 is a Saturday   \n",
       "239    Day 18 in October of year 2048 is a Sunday   \n",
       "240  Day 24 in October of year 2048 is a Saturday   \n",
       "241    Day 25 in October of year 2048 is a Sunday   \n",
       "242  Day 31 in October of year 2048 is a Saturday   \n",
       "\n",
       "                                    comprehension  \n",
       "0      Day 17 in October of year 2021 is a Sunday  \n",
       "1    Day 23 in October of year 2021 is a Saturday  \n",
       "2      Day 24 in October of year 2021 is a Sunday  \n",
       "3    Day 30 in October of year 2021 is a Saturday  \n",
       "4      Day 31 in October of year 2021 is a Sunday  \n",
       "..                                            ...  \n",
       "238  Day 17 in October of year 2048 is a Saturday  \n",
       "239    Day 18 in October of year 2048 is a Sunday  \n",
       "240  Day 24 in October of year 2048 is a Saturday  \n",
       "241    Day 25 in October of year 2048 is a Sunday  \n",
       "242  Day 31 in October of year 2048 is a Saturday  \n",
       "\n",
       "[243 rows x 2 columns]"
      ]
     },
     "execution_count": 28,
     "metadata": {},
     "output_type": "execute_result"
    }
   ],
   "source": [
    "# comprehensions vs lambda-filters\n",
    "\n",
    "t = time.perf_counter()\n",
    "# >>>>>>>>>>>>>>>>>>>>>>>>>>>>>>>>>\n",
    "strLamb = filter(lambda d: ((d.endswith(\"urday\") or d.endswith(\"unday\")) and \"Oc\" in d), datstrlist)\n",
    "# >>>>>>>>>>>>>>>>>>>>>>>>>>>>>>>>\n",
    "tLamb = time.perf_counter() - t\n",
    "print(f'{tLamb:.6f} sec')\n",
    "\n",
    "\n",
    "t = time.perf_counter()\n",
    "# >>>>>>>>>>>>>>>>>>>>>>>>>>>>>>>>>\n",
    "c = [d for d in datstrlist if ((d.endswith(\"urday\") or d.endswith(\"unday\")) and \"Oc\" in d)]\n",
    "# >>>>>>>>>>>>>>>>>>>>>>>>>>>>>>>>\n",
    "tComp = time.perf_counter() - t\n",
    "print(f'{tComp:.6f} sec: comprehension vs lambda-filter: {100*(tComp/tLamb-1):.1f}%')\n",
    "\n",
    "\n",
    "df = pd.DataFrame(list(zip(strLamb,c)), columns=(\"lambda\",\"comprehension\"))\n",
    "df\n"
   ]
  }
 ],
 "metadata": {
  "interpreter": {
   "hash": "5c4574b7b28e8ce007f55bfc2ed5e1ec179f87a9d33bacf8c3f67a3f1e3ae394"
  },
  "kernelspec": {
   "display_name": "Python 3.7.11 64-bit ('ho02': conda)",
   "name": "python3"
  },
  "language_info": {
   "codemirror_mode": {
    "name": "ipython",
    "version": 3
   },
   "file_extension": ".py",
   "mimetype": "text/x-python",
   "name": "python",
   "nbconvert_exporter": "python",
   "pygments_lexer": "ipython3",
   "version": "3.7.11"
  },
  "orig_nbformat": 4
 },
 "nbformat": 4,
 "nbformat_minor": 2
}
